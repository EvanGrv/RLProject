{
 "cells": [
  {
   "cell_type": "markdown",
   "metadata": {},
   "source": [
    "# 🎯 **ANALYSE COMPLÈTE - TOUS ALGORITHMES RL AVEC MONITORING**\n",
    "\n",
    "## 🚀 **Objectif**\n",
    "Analyser **TOUS les algorithmes RL** du projet sur **TOUS les environnements secrets**  \n",
    "**AVEC monitoring détaillé et barres de progression**\n",
    "\n",
    "### 📚 **Algorithmes**\n",
    "1. **🏗️ Dynamic Programming** - Policy Iteration, Value Iteration\n",
    "2. **⚡ Temporal Difference** - Sarsa, Q-Learning, Expected Sarsa  \n",
    "3. **🎲 Monte Carlo** - ES, On-Policy, Off-Policy\n",
    "4. **🧠 Dyna Planning** - Dyna-Q, Dyna-Q+\n",
    "\n",
    "### 🎯 **Environnements**\n",
    "- **SecretEnv0, SecretEnv1, SecretEnv2, SecretEnv3**\n",
    "\n",
    "### 💡 **Innovation + Monitoring**\n",
    "- **Matrices lazy** utilisant `p(s,a,s',r)` natif  \n",
    "- **Barres de progression** temps réel avec `tqdm`\n",
    "- **Logs détaillés** d'interaction environnement-algorithme\n",
    "- **Validation communication** à chaque étape"
   ]
  },
  {
   "cell_type": "code",
   "execution_count": null,
   "metadata": {},
   "outputs": [],
   "source": [
    "# 📦 IMPORTS ET CONFIGURATION - Version Monitoring\n",
    "\n",
    "import os\n",
    "import sys\n",
    "import numpy as np\n",
    "import pandas as pd\n",
    "import matplotlib.pyplot as plt\n",
    "import seaborn as sns\n",
    "import time\n",
    "from tqdm import tqdm\n",
    "from collections import defaultdict\n",
    "import warnings\n",
    "warnings.filterwarnings('ignore')\n",
    "\n",
    "print('🚀 INITIALISATION ANALYSE AVEC MONITORING')\n",
    "print('=' * 60)\n",
    "\n",
    "# Vérification structure\n",
    "expected_files = [\n",
    "    'secret_envs_wrapper.py',\n",
    "    'libs/',\n",
    "    '../../src/dp.py',\n",
    "    '../../src/td.py', \n",
    "    '../../src/monte_carlo.py',\n",
    "    '../../src/dyna.py'\n",
    "]\n",
    "\n",
    "print('📁 Vérification des fichiers:')\n",
    "for file_path in expected_files:\n",
    "    exists = os.path.exists(file_path)\n",
    "    status = '✅' if exists else '❌'\n",
    "    print(f'   {status} {file_path}')\n",
    "\n",
    "# Configuration paths Python\n",
    "project_src = os.path.abspath('../../src')\n",
    "if project_src not in sys.path:\n",
    "    sys.path.insert(0, project_src)\n",
    "\n",
    "print(f'📍 Chemin src: {project_src}')\n",
    "print('=' * 60)"
   ]
  }
 ],
 "metadata": {
  "kernelspec": {
   "display_name": "Python 3",
   "language": "python",
   "name": "python3"
  },
  "language_info": {
   "codemirror_mode": {
    "name": "ipython",
    "version": 3
   },
   "file_extension": ".py",
   "mimetype": "text/x-python",
   "name": "python",
   "nbconvert_exporter": "python",
   "pygments_lexer": "ipython3",
   "version": "3.8.0"
  }
 },
 "nbformat": 4,
 "nbformat_minor": 4
} 